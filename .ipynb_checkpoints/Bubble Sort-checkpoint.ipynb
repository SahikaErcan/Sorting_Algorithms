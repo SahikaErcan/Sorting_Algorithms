{
 "cells": [
  {
   "cell_type": "markdown",
   "id": "6c8e0645",
   "metadata": {},
   "source": [
    "Dizinin elemanları üzerinden ilk elemandan başlayarak ve her geçişte sadece yan yana bulunan iki eleman arasında sıralama yapılır. Dizinin başından sonuna kadar tüm elemanlar bir kez işleme tabi tutulduğunda dizinin son elemanı (küçükten büyüğe sıralandığında) en büyük eleman haline gelecektir. Bir sonraki tarama ise bu en sağdaki eleman dışarıda bırakılarak gerçekleştirilmektedir. Bu dışarıda bırakma işlemi de dış döngüdeki sayaç değişkeninin değerinin her işletimde bir azaltılmasıyla sağlanmaktadır. Sayaç değişkeninin değeri 1 değerine ulaştığında ise dizinin solunda kalan son iki eleman da sıralanmakta ve sıralama işlemi tamamlanmaktadır.\n",
    "\n",
    "![ChessUrl](https://miro.medium.com/max/1400/1*-qR66X2iwdcjhaqq10y9JQ.gif \"chess\")\n",
    "\n",
    "> https://www.youtube.com/watch?v=KLvH6yi5YYU&ab_channel=RealPython"
   ]
  },
  {
   "cell_type": "code",
   "execution_count": 20,
   "id": "9e7f86a7",
   "metadata": {},
   "outputs": [],
   "source": [
    "def bubble_sort(arr):\n",
    "    for i in range(len(arr)):\n",
    "        already_sorted = True                        # Başlangıçta listenin sıralı olduğunu varsayalım.\n",
    "        for j in range(len(arr) -1 -i):\n",
    "            if arr[j] > arr[j+1]:\n",
    "                arr[j], arr[j+1] = arr[j+1], arr[j] \n",
    "                already_sorted = False               # Eğer takas durumu olursa sıralı olmadığını söyleyeceğiz.\n",
    "        if already_sorted:                           # Eğer zaten sıralıysa ve herhangi bir şeyi değiştirmek zorunda kalmadıysak\n",
    "            break                                    # Döngüyü kırabiliriz.Böylece programın fazladan iş yapmasını engellemiş oluyoruz.\n",
    "    return arr"
   ]
  },
  {
   "cell_type": "code",
   "execution_count": 21,
   "id": "db3ca5da",
   "metadata": {},
   "outputs": [
    {
     "data": {
      "text/plain": [
       "[-3, -2, -1, 0, 1, 2, 3, 4, 5, 6]"
      ]
     },
     "execution_count": 21,
     "metadata": {},
     "output_type": "execute_result"
    }
   ],
   "source": [
    "arr = [5,3,-1,4,0,-2,6,2,1,-3]\n",
    "bubble_sort(arr)"
   ]
  },
  {
   "cell_type": "markdown",
   "id": "f2f37312",
   "metadata": {},
   "source": [
    "### Bubble Sort Analizi \n",
    "\n",
    "Üstteki for döngümüz en kötü seneryoda N defa dönüyor. İçindeki for döngüsü ise en kötü seneryoda ilk başta N daha sonra (N - 1) en sonda da 1 kere döndüğü için bu algoritmanın karmaşıklığı N x (N - 1) olacaktır. Bu ifadenin Büyük O notasyonunda gösterimi ise **O(N^2)** ‘dir."
   ]
  },
  {
   "cell_type": "code",
   "execution_count": null,
   "id": "eb46a0b9",
   "metadata": {},
   "outputs": [],
   "source": []
  }
 ],
 "metadata": {
  "kernelspec": {
   "display_name": "Python 3 (ipykernel)",
   "language": "python",
   "name": "python3"
  },
  "language_info": {
   "codemirror_mode": {
    "name": "ipython",
    "version": 3
   },
   "file_extension": ".py",
   "mimetype": "text/x-python",
   "name": "python",
   "nbconvert_exporter": "python",
   "pygments_lexer": "ipython3",
   "version": "3.9.12"
  }
 },
 "nbformat": 4,
 "nbformat_minor": 5
}
