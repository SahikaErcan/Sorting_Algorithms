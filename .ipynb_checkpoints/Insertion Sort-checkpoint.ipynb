{
 "cells": [
  {
   "cell_type": "code",
   "execution_count": null,
   "id": "a4e385b0",
   "metadata": {},
   "outputs": [],
   "source": []
  },
  {
   "cell_type": "markdown",
   "id": "df7ee04c",
   "metadata": {},
   "source": [
    "![ChessUrl](https://upload.wikimedia.org/wikipedia/commons/9/9c/Insertion-sort-example.gif \"chess\")"
   ]
  },
  {
   "cell_type": "code",
   "execution_count": 5,
   "id": "5dd9d3a4",
   "metadata": {},
   "outputs": [],
   "source": [
    "def insertion_sort(arr):\n",
    "    for i in range(1,len(arr)):  # 0. index deki sayıyı sıralı kabul ettiğimiz için 1 den başlatıyoruz.\n",
    "        key = arr[i];\n",
    "        j = i - 1  # soldaki dizi sıralı diziydi. Bizim soldaki dizinin son elemanını tutmamız gerekiyor.\n",
    "        \n",
    "        while j >= 0 and key < arr[j]:\n",
    "            arr[j+1] = arr[j]\n",
    "            j-=1\n",
    "        arr[j+1] = key\n",
    "        "
   ]
  },
  {
   "cell_type": "code",
   "execution_count": 6,
   "id": "bf50647f",
   "metadata": {},
   "outputs": [
    {
     "name": "stdout",
     "output_type": "stream",
     "text": [
      "[-6, -1, 0, 2, 3, 4, 5, 21, 78]\n"
     ]
    }
   ],
   "source": [
    "arr=[21,3,-6,78,0,4,2,5,-1]\n",
    "insertion_sort(arr)\n",
    "print(arr)"
   ]
  },
  {
   "cell_type": "code",
   "execution_count": null,
   "id": "2dc74188",
   "metadata": {},
   "outputs": [],
   "source": []
  }
 ],
 "metadata": {
  "kernelspec": {
   "display_name": "Python 3 (ipykernel)",
   "language": "python",
   "name": "python3"
  },
  "language_info": {
   "codemirror_mode": {
    "name": "ipython",
    "version": 3
   },
   "file_extension": ".py",
   "mimetype": "text/x-python",
   "name": "python",
   "nbconvert_exporter": "python",
   "pygments_lexer": "ipython3",
   "version": "3.9.12"
  }
 },
 "nbformat": 4,
 "nbformat_minor": 5
}
