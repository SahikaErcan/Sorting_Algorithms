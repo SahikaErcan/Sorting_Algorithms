{
 "cells": [
  {
   "cell_type": "markdown",
   "id": "1894a88c",
   "metadata": {},
   "source": [
    "Sıralanacak olan diziyi ikişer eleman kalacak şekilde sürekli olarak parçalayarak ikiye böler daha sonra bu parçaları kendi içlerinde sıralayarak birleştirilir. Bir parçala fethet (divide and conquere) yaklaşımıdır. Sıralı iki veri grubunu birleştirerek üçüncü bir sıralı veri grubu elde etmeye dayanır."
   ]
  },
  {
   "cell_type": "markdown",
   "id": "aac48012",
   "metadata": {},
   "source": [
    "**Çalışma Zamanı:**\n",
    "\n",
    "En iyi, en kötü ve ortalama durum: **“nlogn”** de çalışır."
   ]
  },
  {
   "cell_type": "code",
   "execution_count": 49,
   "id": "36ed4068",
   "metadata": {},
   "outputs": [],
   "source": [
    "def merge_sort(arr, left, right):\n",
    "    \n",
    "    i, j, k = 0, 0, 0\n",
    "    while i < len(left) and j < len(right):\n",
    "        if left[i] < right[j]:\n",
    "            arr[k] = left[i]\n",
    "            i+=1\n",
    "        else:\n",
    "            arr[k] = right[j]\n",
    "            j+=1\n",
    "        k+=1\n",
    "   \n",
    "    # sol ve sağ dizide boşta eleman var mı kontrolü.. i veya j bittiyse zaten buraya girmez.\n",
    "    while i < len(left):\n",
    "        arr[k] = left[i]\n",
    "        i+=1\n",
    "        k+=1\n",
    "    while j < len(right):\n",
    "        arr[k] = right[j]\n",
    "        j+=1\n",
    "        k+=1\n",
    "    print(\"Birleştirilen değer:\\t\", str(arr))"
   ]
  },
  {
   "cell_type": "code",
   "execution_count": 50,
   "id": "2f482cc4",
   "metadata": {},
   "outputs": [],
   "source": [
    "def merge(arr):\n",
    "    if len(arr) > 1:\n",
    "        print(\"Parçalanan değer:\\t\", str(arr))\n",
    "        mid = len(arr) // 2\n",
    "        left = arr[:mid]\n",
    "        right = arr[mid:]\n",
    "        \n",
    "        #recursive\n",
    "        merge(left)\n",
    "        merge(right)\n",
    "        merge_sort(arr, left, right)"
   ]
  },
  {
   "cell_type": "code",
   "execution_count": 51,
   "id": "0fc229d7",
   "metadata": {},
   "outputs": [
    {
     "name": "stdout",
     "output_type": "stream",
     "text": [
      "Parçalanan değer:\t [13, 1, -4, -1, 0, 10, 7, 9, 3, -2, 6, 4, -3]\n",
      "Parçalanan değer:\t [13, 1, -4, -1, 0, 10]\n",
      "Parçalanan değer:\t [13, 1, -4]\n",
      "Parçalanan değer:\t [1, -4]\n",
      "Birleştirilen değer:\t [-4, 1]\n",
      "Birleştirilen değer:\t [-4, 1, 13]\n",
      "Parçalanan değer:\t [-1, 0, 10]\n",
      "Parçalanan değer:\t [0, 10]\n",
      "Birleştirilen değer:\t [0, 10]\n",
      "Birleştirilen değer:\t [-1, 0, 10]\n",
      "Birleştirilen değer:\t [-4, -1, 0, 1, 10, 13]\n",
      "Parçalanan değer:\t [7, 9, 3, -2, 6, 4, -3]\n",
      "Parçalanan değer:\t [7, 9, 3]\n",
      "Parçalanan değer:\t [9, 3]\n",
      "Birleştirilen değer:\t [3, 9]\n",
      "Birleştirilen değer:\t [3, 7, 9]\n",
      "Parçalanan değer:\t [-2, 6, 4, -3]\n",
      "Parçalanan değer:\t [-2, 6]\n",
      "Birleştirilen değer:\t [-2, 6]\n",
      "Parçalanan değer:\t [4, -3]\n",
      "Birleştirilen değer:\t [-3, 4]\n",
      "Birleştirilen değer:\t [-3, -2, 4, 6]\n",
      "Birleştirilen değer:\t [-3, -2, 3, 4, 6, 7, 9]\n",
      "Birleştirilen değer:\t [-4, -3, -2, -1, 0, 1, 3, 4, 6, 7, 9, 10, 13]\n",
      "\n",
      "Sıralı Dizi:  [-4, -3, -2, -1, 0, 1, 3, 4, 6, 7, 9, 10, 13]\n"
     ]
    }
   ],
   "source": [
    "arr = [13,1,-4,-1,0,10,7,9,3,-2,6,4,-3]\n",
    "merge(arr)\n",
    "print(\"\\nSıralı Dizi: \", arr)"
   ]
  },
  {
   "cell_type": "markdown",
   "id": "4bf1168b",
   "metadata": {},
   "source": [
    "\n"
   ]
  },
  {
   "cell_type": "markdown",
   "id": "6d762348",
   "metadata": {},
   "source": [
    "**Algoritmanın çalışması kavramsal olarak şöyledir:**\n",
    "\n",
    "1. Sıralı olmayan diziyi ortadan eşit olarak iki alt diziye ayırır.\n",
    "2. Bu ayırma işlemi, alt diziler en çok iki elemanlı olana kadar devam eder.\n",
    "3. Alt dizileri kendi içinde sıralar.\n",
    "4. Sıralı iki alt diziyi tek bir sıralı dizi olacak şekilde birleştirir."
   ]
  },
  {
   "cell_type": "markdown",
   "id": "8f0ccfd4",
   "metadata": {},
   "source": [
    "Merge Sort algoritması ile Heap Sort algoritması aynı zaman aralığına sahip olmalarına rağmen Heap Sort algoritması bellekte Merge Sort algoritmasına göre daha az yer tutar ve bu algoritmalar gerçeklendiğinde Heap Sort algoritması daha hızlı çalışır. Quick Sort algoritması da bellek tabanlı dizilerde Merge Sort'a göre daha hızlı çalışmaktadır. Ancak **bağlı liste sıralamasında seçilebilecek en performanslı algoritma Merge Sort algoritmasıdır. Çünkü bağlı listelerin yapısı gereği mergesort bellekte fazladan sadece 1 birim yer tutar** ve bağlı listelerin yavaş ve rastgele erişim performansı nedeniyle quicksort gibi diğer algoritmaların çalışma performansı düşer, Heap Sort gibi algoritmalar için ise imkansızdır."
   ]
  },
  {
   "cell_type": "markdown",
   "id": "ea121a97",
   "metadata": {},
   "source": [
    "\n"
   ]
  }
 ],
 "metadata": {
  "kernelspec": {
   "display_name": "Python 3 (ipykernel)",
   "language": "python",
   "name": "python3"
  },
  "language_info": {
   "codemirror_mode": {
    "name": "ipython",
    "version": 3
   },
   "file_extension": ".py",
   "mimetype": "text/x-python",
   "name": "python",
   "nbconvert_exporter": "python",
   "pygments_lexer": "ipython3",
   "version": "3.9.12"
  }
 },
 "nbformat": 4,
 "nbformat_minor": 5
}
