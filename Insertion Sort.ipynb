{
 "cells": [
  {
   "cell_type": "markdown",
   "id": "01700f30",
   "metadata": {},
   "source": [
    "Yerleştirerek sıralama işlevi belirli bir anda dizinin belirli bir kısmını sıralı tutarak ve bu kısmı her adımda biraz daha genişleterek çalışmaktadır. Sıralı kısım işlev son bulunca dizinin tamamına ulaşmaktadır. Elemanların sırasına uygun olarak listeye tek tek eklenmesi ile gerçekleştirilen sıralamadır.\n",
    "\n",
    "**Çalışma Zamanı:**\n",
    "\n",
    "* En iyi durum: n\n",
    "\n",
    "* Ortalama Durum: n²\n",
    "\n",
    "* En kötü durum: n²\n",
    "\n",
    "**Avantajları :**\n",
    "\n",
    "- Uygulaması kolaydır.\n",
    "\n",
    "- Küçük Veri kümeleri üzerinde kullanıldığında verimlidir.\n",
    "\n",
    "- Çoğunluğu zaten sıralanmış olan diziler üzerinde kullanıldığında verimlidir.\n",
    "\n",
    "- Karmaşıklığı O(n^2) olan selection(seçmeli) ve bubble(kabarcık) gibi çoğu yalın sıralama algoritmalarından daha verimlidir.\n",
    "\n",
    "- Kararlı bir sıralama algoritmasıdır (değeri eşit olan öğelerin asıl listedeki göreceli konumlarını değiştirmez\n",
    "\n",
    "- Sıralanacak diziyi yerinde sıralar, ek bir bellek alanı gerektirmez."
   ]
  },
  {
   "cell_type": "markdown",
   "id": "3ce46842",
   "metadata": {},
   "source": [
    "![ChessUrl](https://upload.wikimedia.org/wikipedia/commons/9/9c/Insertion-sort-example.gif \"chess\")"
   ]
  },
  {
   "cell_type": "code",
   "execution_count": 15,
   "id": "9baac98d",
   "metadata": {},
   "outputs": [],
   "source": [
    "def insertion_sort(arr):\n",
    "    for i in range(1,len(arr)):  # 0. index deki sayıyı sıralı kabul ettiğimiz için 1 den başlatıyoruz.\n",
    "        # sıralanmamış dizinin başlangıcını tutuyorum\n",
    "        key = arr[i];  # i=1 -> key=arr[1]  -> key=3\n",
    "        # sıralı kısımın sonunu tutuyorum\n",
    "        j = i - 1  # j=1-1  ->  j=0\n",
    "        \n",
    "        while j >= 0 and key < arr[j]:  # 0 >= 0 (TRUE) and 3<dizi[0] -> 3<21 (TRUE)\n",
    "            # küçük değerin olduğu yere varsa büyük değeri atıyoruz.\n",
    "            arr[j+1] = arr[j]   # dizi[0+1]-> dizi[1] = dizi[0] -> 21  --> dizi[1]=21 olur\n",
    "            # Negatif değer oluncaya kadar j yi her adımda azaltarak sıralı diziyi dolaşıp uygun yeri bulmaya çalışıyoruz.\n",
    "            j-=1                # j=0-1 -> j=-1  döngüye giremez\n",
    "        # büyük değerin olduğu yere varsa küçük değeri atıyoruz.\n",
    "        arr[j+1] = key          # dizi[-1+1] = 3  -> dizi[0]=3        "
   ]
  },
  {
   "cell_type": "code",
   "execution_count": 16,
   "id": "9f4e1127",
   "metadata": {},
   "outputs": [
    {
     "name": "stdout",
     "output_type": "stream",
     "text": [
      "[-6, -1, 0, 2, 3, 4, 5, 21, 78]\n"
     ]
    }
   ],
   "source": [
    "arr=[21,3,-6,78,0,4,2,5,-1]\n",
    "insertion_sort(arr)\n",
    "print(arr)"
   ]
  },
  {
   "cell_type": "code",
   "execution_count": null,
   "id": "be9448d4",
   "metadata": {},
   "outputs": [],
   "source": []
  }
 ],
 "metadata": {
  "kernelspec": {
   "display_name": "Python 3 (ipykernel)",
   "language": "python",
   "name": "python3"
  },
  "language_info": {
   "codemirror_mode": {
    "name": "ipython",
    "version": 3
   },
   "file_extension": ".py",
   "mimetype": "text/x-python",
   "name": "python",
   "nbconvert_exporter": "python",
   "pygments_lexer": "ipython3",
   "version": "3.9.12"
  }
 },
 "nbformat": 4,
 "nbformat_minor": 5
}
