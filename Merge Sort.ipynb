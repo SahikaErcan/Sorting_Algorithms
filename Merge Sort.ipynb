{
 "cells": [
  {
   "cell_type": "markdown",
   "id": "1894a88c",
   "metadata": {},
   "source": [
    "Sıralanacak olan diziyi ikişer elemanı kalan parçalara inene kadar sürekli olarak ikiye böler daha sonra bu parçaları kendi içlerinde sıralayarak birleştirilir. Bir parçala fethet (divide and conquere) yaklaşımıdır. Sıralı iki veri grubunu birleştirerek üçüncü bir sıralı veri grubu elde etmeye dayanır."
   ]
  },
  {
   "cell_type": "markdown",
   "id": "aac48012",
   "metadata": {},
   "source": [
    "**Çalışma Zamanı:**\n",
    "\n",
    "En iyi, en kötü ve ortalama durum: **“nlogn”** de çalışır."
   ]
  },
  {
   "cell_type": "code",
   "execution_count": null,
   "id": "fa1e1efb",
   "metadata": {},
   "outputs": [],
   "source": []
  },
  {
   "cell_type": "code",
   "execution_count": null,
   "id": "36ed4068",
   "metadata": {},
   "outputs": [],
   "source": []
  },
  {
   "cell_type": "code",
   "execution_count": null,
   "id": "0fc229d7",
   "metadata": {},
   "outputs": [],
   "source": []
  }
 ],
 "metadata": {
  "kernelspec": {
   "display_name": "Python 3 (ipykernel)",
   "language": "python",
   "name": "python3"
  },
  "language_info": {
   "codemirror_mode": {
    "name": "ipython",
    "version": 3
   },
   "file_extension": ".py",
   "mimetype": "text/x-python",
   "name": "python",
   "nbconvert_exporter": "python",
   "pygments_lexer": "ipython3",
   "version": "3.9.12"
  }
 },
 "nbformat": 4,
 "nbformat_minor": 5
}
