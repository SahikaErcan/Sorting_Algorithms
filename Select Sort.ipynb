{
 "cells": [
  {
   "cell_type": "markdown",
   "id": "02523178",
   "metadata": {},
   "source": [
    "**Çalışma zamanı O(n^2) 'dir.** Büyük veri setlerini sıralamak için uygun değildir. Bunun yanı sıra, bubble sort algoritmasındaki takas işlemlerinin çoğunu yapmadığı için, bubble sort algoritmasının iyileştirilmiş hali sayılır. Çünkü takas işlemlerinin\n",
    "sayısını O(n^2) den O(n) 'e düşürür. Dolayısıyla daha etkilidir. Ancak, yaptığı karşılaştırma işlemleri gene O(n^2) düzeyindedir."
   ]
  },
  {
   "cell_type": "markdown",
   "id": "e457e174",
   "metadata": {},
   "source": [
    "Algoritmanın çalışma mantığı;\n",
    "* Başlarken dizinin ilk elemanı geçici olarak en küçük eleman kabul edilir. Daha sonra kalan elemanlar arasında dolaşılarak daha küçük değerlerin olup olmadığı kontrol edilir. Daha küçük bir değer varsa geçiçi min değer ile küçük değer yer değiştirir. Diziden seçilen bu en küçük terimi kenara koyarız ve geri kalan alt dizinde de yine aynı şekilde en küçük elemanı bulup yer değiştirme işlemi ile kenara koya koya sıralama işlemini gerçekleştiririz.\n",
    "\n",
    "![ChessUrl](https://stackabuse.s3.amazonaws.com/media/selection-sort-in-javascript-1.gif \"chess\")"
   ]
  },
  {
   "cell_type": "code",
   "execution_count": null,
   "id": "b82bec35",
   "metadata": {},
   "outputs": [],
   "source": []
  },
  {
   "cell_type": "code",
   "execution_count": 29,
   "id": "d61ba736",
   "metadata": {},
   "outputs": [],
   "source": [
    "def selection_sort(arr):\n",
    "    for i in range(len(arr)):                            # Dizinin tüm elemanlarını dolaşır.\n",
    "        min_index = i;                                   # Bulunduğu konumu min kabul ediyoruz.\n",
    "        for j in range(i+1, len(arr)):                   # Bulunduğu indexten sonraki değerleri dolaşır.\n",
    "            if arr[min_index] > arr[j]:\n",
    "                min_index = j               \n",
    "        arr[min_index], arr[i] = arr[i], arr[min_index]  # swap"
   ]
  },
  {
   "cell_type": "code",
   "execution_count": 30,
   "id": "4c2ed252",
   "metadata": {},
   "outputs": [
    {
     "name": "stdout",
     "output_type": "stream",
     "text": [
      "[-12, -8, 0, 2, 6, 7, 11, 18, 23, 46]\n"
     ]
    }
   ],
   "source": [
    "arr = [18,2,-12,7,23,0,-8,11,6,46]\n",
    "selection_sort(arr)\n",
    "print(arr)"
   ]
  },
  {
   "cell_type": "code",
   "execution_count": null,
   "id": "3c9142b2",
   "metadata": {},
   "outputs": [],
   "source": []
  }
 ],
 "metadata": {
  "kernelspec": {
   "display_name": "Python 3 (ipykernel)",
   "language": "python",
   "name": "python3"
  },
  "language_info": {
   "codemirror_mode": {
    "name": "ipython",
    "version": 3
   },
   "file_extension": ".py",
   "mimetype": "text/x-python",
   "name": "python",
   "nbconvert_exporter": "python",
   "pygments_lexer": "ipython3",
   "version": "3.9.12"
  }
 },
 "nbformat": 4,
 "nbformat_minor": 5
}
